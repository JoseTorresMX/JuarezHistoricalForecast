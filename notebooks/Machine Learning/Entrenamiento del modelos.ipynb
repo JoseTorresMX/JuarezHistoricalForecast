{
 "cells": [
  {
   "cell_type": "code",
   "execution_count": 65,
   "metadata": {},
   "outputs": [
    {
     "data": {
      "text/html": [
       "<div>\n",
       "<style scoped>\n",
       "    .dataframe tbody tr th:only-of-type {\n",
       "        vertical-align: middle;\n",
       "    }\n",
       "\n",
       "    .dataframe tbody tr th {\n",
       "        vertical-align: top;\n",
       "    }\n",
       "\n",
       "    .dataframe thead th {\n",
       "        text-align: right;\n",
       "    }\n",
       "</style>\n",
       "<table border=\"1\" class=\"dataframe\">\n",
       "  <thead>\n",
       "    <tr style=\"text-align: right;\">\n",
       "      <th></th>\n",
       "      <th>tiempo_americano</th>\n",
       "      <th>time_num_usa</th>\n",
       "      <th>viento_U</th>\n",
       "      <th>viento_V</th>\n",
       "      <th>pto_rocio</th>\n",
       "      <th>tem_viento</th>\n",
       "      <th>alt_nube</th>\n",
       "      <th>evaporacion</th>\n",
       "      <th>rafaga_viento</th>\n",
       "      <th>evap_media</th>\n",
       "      <th>...</th>\n",
       "      <th>pm_nivel_del_mar</th>\n",
       "      <th>evap_potencial</th>\n",
       "      <th>tip_precipitacion</th>\n",
       "      <th>temp_del_suelo</th>\n",
       "      <th>agua_del_suelo</th>\n",
       "      <th>nubosidad</th>\n",
       "      <th>precip_acum_x_hora</th>\n",
       "      <th>angulo_viento</th>\n",
       "      <th>dir_viento</th>\n",
       "      <th>vel_viento</th>\n",
       "    </tr>\n",
       "  </thead>\n",
       "  <tbody>\n",
       "    <tr>\n",
       "      <th>0</th>\n",
       "      <td>01/01/2000</td>\n",
       "      <td>36526</td>\n",
       "      <td>-1.669281</td>\n",
       "      <td>-0.020920</td>\n",
       "      <td>7.480493</td>\n",
       "      <td>17.317834</td>\n",
       "      <td>1907.450439</td>\n",
       "      <td>-7.220000e-06</td>\n",
       "      <td>2.148321</td>\n",
       "      <td>-2.000000e-06</td>\n",
       "      <td>...</td>\n",
       "      <td>1012.635625</td>\n",
       "      <td>-1.250000e-05</td>\n",
       "      <td>0</td>\n",
       "      <td>13.064264</td>\n",
       "      <td>0.137127</td>\n",
       "      <td>0.152496</td>\n",
       "      <td>0.0</td>\n",
       "      <td>89</td>\n",
       "      <td>este</td>\n",
       "      <td>1.669412</td>\n",
       "    </tr>\n",
       "    <tr>\n",
       "      <th>1</th>\n",
       "      <td>01/01/2000</td>\n",
       "      <td>36526</td>\n",
       "      <td>-1.951294</td>\n",
       "      <td>-0.468689</td>\n",
       "      <td>8.055566</td>\n",
       "      <td>16.767297</td>\n",
       "      <td>2135.849121</td>\n",
       "      <td>-1.550000e-06</td>\n",
       "      <td>2.747254</td>\n",
       "      <td>-4.300000e-07</td>\n",
       "      <td>...</td>\n",
       "      <td>1012.456250</td>\n",
       "      <td>-6.860000e-07</td>\n",
       "      <td>0</td>\n",
       "      <td>12.453210</td>\n",
       "      <td>0.137084</td>\n",
       "      <td>0.236725</td>\n",
       "      <td>0.0</td>\n",
       "      <td>76</td>\n",
       "      <td>este</td>\n",
       "      <td>2.006793</td>\n",
       "    </tr>\n",
       "    <tr>\n",
       "      <th>2</th>\n",
       "      <td>01/01/2000</td>\n",
       "      <td>36526</td>\n",
       "      <td>-1.763443</td>\n",
       "      <td>-0.294388</td>\n",
       "      <td>5.953119</td>\n",
       "      <td>14.243799</td>\n",
       "      <td>2208.853027</td>\n",
       "      <td>-4.540000e-07</td>\n",
       "      <td>2.561296</td>\n",
       "      <td>-1.230000e-07</td>\n",
       "      <td>...</td>\n",
       "      <td>1012.368125</td>\n",
       "      <td>6.660000e-07</td>\n",
       "      <td>0</td>\n",
       "      <td>10.392664</td>\n",
       "      <td>0.137066</td>\n",
       "      <td>0.579987</td>\n",
       "      <td>0.0</td>\n",
       "      <td>81</td>\n",
       "      <td>este</td>\n",
       "      <td>1.787847</td>\n",
       "    </tr>\n",
       "    <tr>\n",
       "      <th>3</th>\n",
       "      <td>01/01/2000</td>\n",
       "      <td>36526</td>\n",
       "      <td>-1.436081</td>\n",
       "      <td>0.382751</td>\n",
       "      <td>5.892938</td>\n",
       "      <td>11.471796</td>\n",
       "      <td>7484.599609</td>\n",
       "      <td>3.110000e-07</td>\n",
       "      <td>2.200583</td>\n",
       "      <td>8.660000e-08</td>\n",
       "      <td>...</td>\n",
       "      <td>1012.543125</td>\n",
       "      <td>1.220000e-06</td>\n",
       "      <td>0</td>\n",
       "      <td>8.273584</td>\n",
       "      <td>0.137028</td>\n",
       "      <td>0.482239</td>\n",
       "      <td>0.0</td>\n",
       "      <td>105</td>\n",
       "      <td>este</td>\n",
       "      <td>1.486212</td>\n",
       "    </tr>\n",
       "    <tr>\n",
       "      <th>4</th>\n",
       "      <td>01/01/2000</td>\n",
       "      <td>36526</td>\n",
       "      <td>-0.908798</td>\n",
       "      <td>1.725983</td>\n",
       "      <td>5.761438</td>\n",
       "      <td>11.316980</td>\n",
       "      <td>4100.225235</td>\n",
       "      <td>6.010000e-07</td>\n",
       "      <td>2.526732</td>\n",
       "      <td>1.660000e-07</td>\n",
       "      <td>...</td>\n",
       "      <td>1012.673750</td>\n",
       "      <td>1.130000e-06</td>\n",
       "      <td>0</td>\n",
       "      <td>7.544336</td>\n",
       "      <td>0.137005</td>\n",
       "      <td>0.411499</td>\n",
       "      <td>0.0</td>\n",
       "      <td>152</td>\n",
       "      <td>sureste</td>\n",
       "      <td>1.950623</td>\n",
       "    </tr>\n",
       "  </tbody>\n",
       "</table>\n",
       "<p>5 rows × 21 columns</p>\n",
       "</div>"
      ],
      "text/plain": [
       "  tiempo_americano  time_num_usa  viento_U  viento_V  pto_rocio  tem_viento  \\\n",
       "0       01/01/2000         36526 -1.669281 -0.020920   7.480493   17.317834   \n",
       "1       01/01/2000         36526 -1.951294 -0.468689   8.055566   16.767297   \n",
       "2       01/01/2000         36526 -1.763443 -0.294388   5.953119   14.243799   \n",
       "3       01/01/2000         36526 -1.436081  0.382751   5.892938   11.471796   \n",
       "4       01/01/2000         36526 -0.908798  1.725983   5.761438   11.316980   \n",
       "\n",
       "      alt_nube   evaporacion  rafaga_viento    evap_media  ...  \\\n",
       "0  1907.450439 -7.220000e-06       2.148321 -2.000000e-06  ...   \n",
       "1  2135.849121 -1.550000e-06       2.747254 -4.300000e-07  ...   \n",
       "2  2208.853027 -4.540000e-07       2.561296 -1.230000e-07  ...   \n",
       "3  7484.599609  3.110000e-07       2.200583  8.660000e-08  ...   \n",
       "4  4100.225235  6.010000e-07       2.526732  1.660000e-07  ...   \n",
       "\n",
       "   pm_nivel_del_mar  evap_potencial  tip_precipitacion  temp_del_suelo  \\\n",
       "0       1012.635625   -1.250000e-05                  0       13.064264   \n",
       "1       1012.456250   -6.860000e-07                  0       12.453210   \n",
       "2       1012.368125    6.660000e-07                  0       10.392664   \n",
       "3       1012.543125    1.220000e-06                  0        8.273584   \n",
       "4       1012.673750    1.130000e-06                  0        7.544336   \n",
       "\n",
       "   agua_del_suelo  nubosidad  precip_acum_x_hora  angulo_viento  dir_viento  \\\n",
       "0        0.137127   0.152496                 0.0             89        este   \n",
       "1        0.137084   0.236725                 0.0             76        este   \n",
       "2        0.137066   0.579987                 0.0             81        este   \n",
       "3        0.137028   0.482239                 0.0            105        este   \n",
       "4        0.137005   0.411499                 0.0            152     sureste   \n",
       "\n",
       "  vel_viento  \n",
       "0   1.669412  \n",
       "1   2.006793  \n",
       "2   1.787847  \n",
       "3   1.486212  \n",
       "4   1.950623  \n",
       "\n",
       "[5 rows x 21 columns]"
      ]
     },
     "execution_count": 65,
     "metadata": {},
     "output_type": "execute_result"
    }
   ],
   "source": [
    "import pandas as pd\n",
    "import matplotlib.pyplot as plt\n",
    "import numpy as np\n",
    "from sklearn.metrics import mean_squared_error\n",
    "from sklearn.linear_model import LinearRegression\n",
    "\n",
    "ruta=\"../../results/WHCd_Juarez_clean_v1.csv\"\n",
    "\n",
    "cdjuarezML=pd.read_csv(ruta)\n",
    "\n",
    "cdjuarezML.head()"
   ]
  },
  {
   "cell_type": "code",
   "execution_count": null,
   "metadata": {},
   "outputs": [],
   "source": [
    "cdjuarezML.info()"
   ]
  },
  {
   "cell_type": "code",
   "execution_count": null,
   "metadata": {},
   "outputs": [],
   "source": [
    "cdjuarezML.describe()"
   ]
  },
  {
   "cell_type": "code",
   "execution_count": null,
   "metadata": {},
   "outputs": [],
   "source": [
    "cdjuarezML.hist()"
   ]
  },
  {
   "cell_type": "code",
   "execution_count": null,
   "metadata": {},
   "outputs": [],
   "source": [
    "cdjuarezML = cdjuarezML.drop(['tiempo_americano', 'dir_viento'], axis=1)"
   ]
  },
  {
   "cell_type": "code",
   "execution_count": null,
   "metadata": {},
   "outputs": [],
   "source": [
    "cdjuarezML.head()"
   ]
  },
  {
   "cell_type": "code",
   "execution_count": null,
   "metadata": {},
   "outputs": [],
   "source": [
    "cdjuarezML.isna().sum()"
   ]
  },
  {
   "cell_type": "code",
   "execution_count": 75,
   "metadata": {},
   "outputs": [
    {
     "data": {
      "image/png": "[encoded data removed]",
      "text/plain": [
       "<Figure size 640x480 with 1 Axes>"
      ]
     },
     "metadata": {},
     "output_type": "display_data"
    }
   ],
   "source": [
    "plt.scatter(x=cdjuarezML['rafaga_viento'], y =cdjuarezML['vel_viento'])\n",
    "plt.title('Rafaga del viento Vs Velocidad del viento')\n",
    "plt.xlabel('Rafaga del viento')\n",
    "plt.ylabel('Velocidad del viento')\n",
    "plt.show()"
   ]
  },
  {
   "cell_type": "markdown",
   "metadata": {},
   "source": [
    "# Comenzando aprendizaje"
   ]
  },
  {
   "cell_type": "code",
   "execution_count": null,
   "metadata": {},
   "outputs": [],
   "source": [
    "datos_entrenamiento = cdjuarezML.sample(frac=0.8, random_state=0)\n",
    "datos_test = cdjuarezML.drop(datos_entrenamiento.index)\n",
    "\n",
    "datos_entrenamiento"
   ]
  },
  {
   "cell_type": "code",
   "execution_count": null,
   "metadata": {},
   "outputs": [],
   "source": [
    "etiquetas_entranamiento=datos_entrenamiento.pop('temp_del_suelo')\n",
    "etiquetas_test=datos_test.pop('temp_del_suelo')\n",
    "\n",
    "etiquetas_entranamiento"
   ]
  },
  {
   "cell_type": "code",
   "execution_count": null,
   "metadata": {},
   "outputs": [],
   "source": [
    "datos_entrenamiento"
   ]
  },
  {
   "cell_type": "code",
   "execution_count": null,
   "metadata": {},
   "outputs": [],
   "source": [
    "'''cdjuarezML['fecha'] = pd.to_datetime(cdjuarezML['fecha'])\n",
    "cdjuarezML['fecha_num'] = (\n",
    "    cdjuarezML['fecha']-cdjuarezML['fecha'].min())/np.timedelta64(1, 'D')\n",
    "cdjuarezML.drop('fecha', axis=1, inplace=True)\n",
    "cdjuarezML.head(10)'''"
   ]
  },
  {
   "cell_type": "code",
   "execution_count": null,
   "metadata": {},
   "outputs": [],
   "source": [
    "modelo=LinearRegression()\n",
    "modelo.fit(datos_entrenamiento, etiquetas_entranamiento)"
   ]
  },
  {
   "cell_type": "code",
   "execution_count": null,
   "metadata": {},
   "outputs": [],
   "source": [
    "predicciones=modelo.predict(datos_test)\n",
    "predicciones"
   ]
  },
  {
   "cell_type": "code",
   "execution_count": null,
   "metadata": {},
   "outputs": [],
   "source": [
    "error=np.sqrt(mean_squared_error(etiquetas_test,predicciones))\n",
    "print(\"Error porcentual: %f\" % (error*100))"
   ]
  },
  {
   "cell_type": "code",
   "execution_count": null,
   "metadata": {},
   "outputs": [],
   "source": [
    "temp_suelo=pd.DataFrame(np.array([[]]))"
   ]
  }
 ],
 "metadata": {
  "kernelspec": {
   "display_name": "cdjuarezforecast",
   "language": "python",
   "name": "python3"
  },
  "language_info": {
   "codemirror_mode": {
    "name": "ipython",
    "version": 3
   },
   "file_extension": ".py",
   "mimetype": "text/x-python",
   "name": "python",
   "nbconvert_exporter": "python",
   "pygments_lexer": "ipython3",
   "version": "3.12.0"
  }
 },
 "nbformat": 4,
 "nbformat_minor": 2
}
