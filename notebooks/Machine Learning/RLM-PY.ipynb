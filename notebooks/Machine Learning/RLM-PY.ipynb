{
 "cells": [
  {
   "cell_type": "code",
   "execution_count": 1,
   "metadata": {},
   "outputs": [],
   "source": [
    "import pandas as pd\n",
    "from sklearn.linear_model import LinearRegression\n",
    "from sklearn.model_selection import train_test_split\n",
    "from sklearn.metrics import mean_squared_error\n",
    "import matplotlib.pyplot as plt"
   ]
  },
  {
   "cell_type": "code",
   "execution_count": 2,
   "metadata": {},
   "outputs": [
    {
     "data": {
      "text/html": [
       "<div>\n",
       "<style scoped>\n",
       "    .dataframe tbody tr th:only-of-type {\n",
       "        vertical-align: middle;\n",
       "    }\n",
       "\n",
       "    .dataframe tbody tr th {\n",
       "        vertical-align: top;\n",
       "    }\n",
       "\n",
       "    .dataframe thead th {\n",
       "        text-align: right;\n",
       "    }\n",
       "</style>\n",
       "<table border=\"1\" class=\"dataframe\">\n",
       "  <thead>\n",
       "    <tr style=\"text-align: right;\">\n",
       "      <th></th>\n",
       "      <th>tiempo_americano</th>\n",
       "      <th>time_num_usa</th>\n",
       "      <th>viento_U</th>\n",
       "      <th>viento_V</th>\n",
       "      <th>pto_rocio</th>\n",
       "      <th>tem_viento</th>\n",
       "      <th>alt_nube</th>\n",
       "      <th>evaporacion</th>\n",
       "      <th>rafaga_viento</th>\n",
       "      <th>evap_media</th>\n",
       "      <th>...</th>\n",
       "      <th>pm_nivel_del_mar</th>\n",
       "      <th>evap_potencial</th>\n",
       "      <th>tip_precipitacion</th>\n",
       "      <th>temp_del_suelo</th>\n",
       "      <th>agua_del_suelo</th>\n",
       "      <th>nubosidad</th>\n",
       "      <th>precip_acum_x_hora</th>\n",
       "      <th>angulo_viento</th>\n",
       "      <th>dir_viento</th>\n",
       "      <th>vel_viento</th>\n",
       "    </tr>\n",
       "  </thead>\n",
       "  <tbody>\n",
       "    <tr>\n",
       "      <th>0</th>\n",
       "      <td>1/1/2000</td>\n",
       "      <td>36526</td>\n",
       "      <td>-1.669281</td>\n",
       "      <td>-0.020920</td>\n",
       "      <td>7.480493</td>\n",
       "      <td>17.317834</td>\n",
       "      <td>1907.450439</td>\n",
       "      <td>-7.220000e-06</td>\n",
       "      <td>2.148321</td>\n",
       "      <td>-2.000000e-06</td>\n",
       "      <td>...</td>\n",
       "      <td>1012.635625</td>\n",
       "      <td>-1.250000e-05</td>\n",
       "      <td>0</td>\n",
       "      <td>13.064264</td>\n",
       "      <td>0.137127</td>\n",
       "      <td>0.152496</td>\n",
       "      <td>0.0</td>\n",
       "      <td>89</td>\n",
       "      <td>este</td>\n",
       "      <td>1.669412</td>\n",
       "    </tr>\n",
       "    <tr>\n",
       "      <th>1</th>\n",
       "      <td>1/1/2000</td>\n",
       "      <td>36526</td>\n",
       "      <td>-1.951294</td>\n",
       "      <td>-0.468689</td>\n",
       "      <td>8.055566</td>\n",
       "      <td>16.767297</td>\n",
       "      <td>2135.849121</td>\n",
       "      <td>-1.550000e-06</td>\n",
       "      <td>2.747254</td>\n",
       "      <td>-4.300000e-07</td>\n",
       "      <td>...</td>\n",
       "      <td>1012.456250</td>\n",
       "      <td>-6.860000e-07</td>\n",
       "      <td>0</td>\n",
       "      <td>12.453210</td>\n",
       "      <td>0.137084</td>\n",
       "      <td>0.236725</td>\n",
       "      <td>0.0</td>\n",
       "      <td>76</td>\n",
       "      <td>este</td>\n",
       "      <td>2.006793</td>\n",
       "    </tr>\n",
       "    <tr>\n",
       "      <th>2</th>\n",
       "      <td>1/1/2000</td>\n",
       "      <td>36526</td>\n",
       "      <td>-1.763443</td>\n",
       "      <td>-0.294388</td>\n",
       "      <td>5.953119</td>\n",
       "      <td>14.243799</td>\n",
       "      <td>2208.853027</td>\n",
       "      <td>-4.540000e-07</td>\n",
       "      <td>2.561296</td>\n",
       "      <td>-1.230000e-07</td>\n",
       "      <td>...</td>\n",
       "      <td>1012.368125</td>\n",
       "      <td>6.660000e-07</td>\n",
       "      <td>0</td>\n",
       "      <td>10.392664</td>\n",
       "      <td>0.137066</td>\n",
       "      <td>0.579987</td>\n",
       "      <td>0.0</td>\n",
       "      <td>81</td>\n",
       "      <td>este</td>\n",
       "      <td>1.787847</td>\n",
       "    </tr>\n",
       "    <tr>\n",
       "      <th>3</th>\n",
       "      <td>1/1/2000</td>\n",
       "      <td>36526</td>\n",
       "      <td>-1.436081</td>\n",
       "      <td>0.382751</td>\n",
       "      <td>5.892938</td>\n",
       "      <td>11.471796</td>\n",
       "      <td>7484.599609</td>\n",
       "      <td>3.110000e-07</td>\n",
       "      <td>2.200583</td>\n",
       "      <td>8.660000e-08</td>\n",
       "      <td>...</td>\n",
       "      <td>1012.543125</td>\n",
       "      <td>1.220000e-06</td>\n",
       "      <td>0</td>\n",
       "      <td>8.273584</td>\n",
       "      <td>0.137028</td>\n",
       "      <td>0.482239</td>\n",
       "      <td>0.0</td>\n",
       "      <td>105</td>\n",
       "      <td>este</td>\n",
       "      <td>1.486212</td>\n",
       "    </tr>\n",
       "    <tr>\n",
       "      <th>4</th>\n",
       "      <td>1/1/2000</td>\n",
       "      <td>36526</td>\n",
       "      <td>-0.908798</td>\n",
       "      <td>1.725983</td>\n",
       "      <td>5.761438</td>\n",
       "      <td>11.316980</td>\n",
       "      <td>4100.225235</td>\n",
       "      <td>6.010000e-07</td>\n",
       "      <td>2.526732</td>\n",
       "      <td>1.660000e-07</td>\n",
       "      <td>...</td>\n",
       "      <td>1012.673750</td>\n",
       "      <td>1.130000e-06</td>\n",
       "      <td>0</td>\n",
       "      <td>7.544336</td>\n",
       "      <td>0.137005</td>\n",
       "      <td>0.411499</td>\n",
       "      <td>0.0</td>\n",
       "      <td>152</td>\n",
       "      <td>sureste</td>\n",
       "      <td>1.950623</td>\n",
       "    </tr>\n",
       "  </tbody>\n",
       "</table>\n",
       "<p>5 rows × 21 columns</p>\n",
       "</div>"
      ],
      "text/plain": [
       "  tiempo_americano  time_num_usa  viento_U  viento_V  pto_rocio  tem_viento  \\\n",
       "0         1/1/2000         36526 -1.669281 -0.020920   7.480493   17.317834   \n",
       "1         1/1/2000         36526 -1.951294 -0.468689   8.055566   16.767297   \n",
       "2         1/1/2000         36526 -1.763443 -0.294388   5.953119   14.243799   \n",
       "3         1/1/2000         36526 -1.436081  0.382751   5.892938   11.471796   \n",
       "4         1/1/2000         36526 -0.908798  1.725983   5.761438   11.316980   \n",
       "\n",
       "      alt_nube   evaporacion  rafaga_viento    evap_media  ...  \\\n",
       "0  1907.450439 -7.220000e-06       2.148321 -2.000000e-06  ...   \n",
       "1  2135.849121 -1.550000e-06       2.747254 -4.300000e-07  ...   \n",
       "2  2208.853027 -4.540000e-07       2.561296 -1.230000e-07  ...   \n",
       "3  7484.599609  3.110000e-07       2.200583  8.660000e-08  ...   \n",
       "4  4100.225235  6.010000e-07       2.526732  1.660000e-07  ...   \n",
       "\n",
       "   pm_nivel_del_mar  evap_potencial  tip_precipitacion  temp_del_suelo  \\\n",
       "0       1012.635625   -1.250000e-05                  0       13.064264   \n",
       "1       1012.456250   -6.860000e-07                  0       12.453210   \n",
       "2       1012.368125    6.660000e-07                  0       10.392664   \n",
       "3       1012.543125    1.220000e-06                  0        8.273584   \n",
       "4       1012.673750    1.130000e-06                  0        7.544336   \n",
       "\n",
       "   agua_del_suelo  nubosidad  precip_acum_x_hora  angulo_viento  dir_viento  \\\n",
       "0        0.137127   0.152496                 0.0             89        este   \n",
       "1        0.137084   0.236725                 0.0             76        este   \n",
       "2        0.137066   0.579987                 0.0             81        este   \n",
       "3        0.137028   0.482239                 0.0            105        este   \n",
       "4        0.137005   0.411499                 0.0            152     sureste   \n",
       "\n",
       "  vel_viento  \n",
       "0   1.669412  \n",
       "1   2.006793  \n",
       "2   1.787847  \n",
       "3   1.486212  \n",
       "4   1.950623  \n",
       "\n",
       "[5 rows x 21 columns]"
      ]
     },
     "execution_count": 2,
     "metadata": {},
     "output_type": "execute_result"
    }
   ],
   "source": [
    "ruta = \"../../results/WHCd_Juarez_clean_v1.csv\"\n",
    "dataML = pd.read_csv(ruta)\n",
    "dataML.head()"
   ]
  },
  {
   "cell_type": "code",
   "execution_count": 3,
   "metadata": {},
   "outputs": [],
   "source": [
    "# Seleccionar las variables independientes (x) y la variable dependiente (y)\n",
    "X = dataML[['time_num_usa']]\n",
    "y = dataML[['viento_U', 'viento_V', 'pto_rocio', 'tem_viento', 'alt_nube', 'evaporacion', 'rafaga_viento', 'evap_media', 'evap_media_potencial', 'pm_nivel_del_mar',\n",
    "            'evap_potencial', 'tip_precipitacion', 'temp_del_suelo', 'agua_del_suelo', 'nubosidad', 'precip_acum_x_hora', 'angulo_viento','vel_viento']]"
   ]
  },
  {
   "cell_type": "code",
   "execution_count": 4,
   "metadata": {},
   "outputs": [],
   "source": [
    "# Dividir los datos en conjunto de entrenemineto y conjunto de pruebas\n",
    "X_entrenamiento, X_test, y_entrenamiento, y_test = train_test_split(\n",
    "    X, y, test_size=0.2, random_state=42)"
   ]
  },
  {
   "cell_type": "code",
   "execution_count": 5,
   "metadata": {},
   "outputs": [],
   "source": [
    "# Crear el modelo de regresion lineal multiple\n",
    "reg_lineal_mul = LinearRegression().fit(X_entrenamiento, y_entrenamiento)"
   ]
  },
  {
   "cell_type": "code",
   "execution_count": 6,
   "metadata": {},
   "outputs": [],
   "source": [
    "# Hacer predicciones sobre el conjunto de prueba\n",
    "y_prediccion = reg_lineal_mul.predict(X_test)"
   ]
  },
  {
   "cell_type": "code",
   "execution_count": 7,
   "metadata": {},
   "outputs": [
    {
     "name": "stdout",
     "output_type": "stream",
     "text": [
      "Error cuadrado medio:  200539.11451436207\n"
     ]
    }
   ],
   "source": [
    "error_cuad_metrico = mean_squared_error(y_test, y_prediccion)\n",
    "print(\"Error cuadrado medio: \", error_cuad_metrico)"
   ]
  },
  {
   "cell_type": "code",
   "execution_count": 8,
   "metadata": {},
   "outputs": [
    {
     "name": "stdout",
     "output_type": "stream",
     "text": [
      "Coeficientes:  LinearRegression()\n",
      "Sesgo (Coeficiente W0):  [-1.80430297e-01  1.04214680e-01 -2.14129278e+00  1.11508938e+01\n",
      "  3.53949156e+03 -1.85032545e-05  5.69581728e+00 -5.13964451e-06\n",
      " -4.21870229e-05  1.01521800e+03 -1.51878236e-04  1.32540632e-01\n",
      "  1.34427426e+01  6.32645883e-02  2.03652689e-01  2.50804413e-02\n",
      "  1.84600412e+02  2.68487961e+00]\n",
      "Coeficiente W1:  [1.35267956e-05]\n",
      "Coeficiente W2:  [9.88145692e-06]\n"
     ]
    }
   ],
   "source": [
    "# Imprimir los coeficientes y el sesgo\n",
    "# Valores de los pesos del modelo de regresion\n",
    "print(\"Coeficientes: \", reg_lineal_mul)\n",
    "print(\"Sesgo (Coeficiente W0): \", reg_lineal_mul.intercept_)\n",
    "print(\"Coeficiente W1: \", reg_lineal_mul.coef_[0])\n",
    "print(\"Coeficiente W2: \", reg_lineal_mul.coef_[1])"
   ]
  },
  {
   "cell_type": "code",
   "execution_count": 9,
   "metadata": {},
   "outputs": [
    {
     "name": "stdout",
     "output_type": "stream",
     "text": [
      "Coeficiente de determinacion:  0.00040034354970116783\n"
     ]
    }
   ],
   "source": [
    "#Imprimir el coeficiente de deterinacion\n",
    "print(\"Coeficiente de determinacion: \",reg_lineal_mul.score(X_entrenamiento,y_entrenamiento))"
   ]
  },
  {
   "cell_type": "code",
   "execution_count": 10,
   "metadata": {},
   "outputs": [
    {
     "data": {
      "image/png": "[encoded data removed]",
      "text/plain": [
       "<Figure size 640x480 with 1 Axes>"
      ]
     },
     "metadata": {},
     "output_type": "display_data"
    }
   ],
   "source": [
    "#Crear una figura y un eje\n",
    "fig, ax=plt.subplots()"
   ]
  },
  {
   "cell_type": "code",
   "execution_count": 11,
   "metadata": {},
   "outputs": [
    {
     "ename": "ValueError",
     "evalue": "x and y must be the same size",
     "output_type": "error",
     "traceback": [
      "\u001b[1;31m---------------------------------------------------------------------------\u001b[0m",
      "\u001b[1;31mValueError\u001b[0m                                Traceback (most recent call last)",
      "\u001b[1;32md:\\Proyectos\\Python\\CdJuarezMX_Historial_Forecast\\notebooks\\Machine Learning\\RLM-PY.ipynb Cell 11\u001b[0m line \u001b[0;36m2\n\u001b[0;32m      <a href='vscode-notebook-cell:/d%3A/Proyectos/Python/CdJuarezMX_Historial_Forecast/notebooks/Machine%20Learning/RLM-PY.ipynb#X13sZmlsZQ%3D%3D?line=0'>1</a>\u001b[0m \u001b[39m#Graficar los puntos de entrenamiento\u001b[39;00m\n\u001b[1;32m----> <a href='vscode-notebook-cell:/d%3A/Proyectos/Python/CdJuarezMX_Historial_Forecast/notebooks/Machine%20Learning/RLM-PY.ipynb#X13sZmlsZQ%3D%3D?line=1'>2</a>\u001b[0m ax\u001b[39m.\u001b[39;49mscatter(X_entrenamiento[\u001b[39m'\u001b[39;49m\u001b[39mtime_num_usa\u001b[39;49m\u001b[39m'\u001b[39;49m],y_entrenamiento,color\u001b[39m=\u001b[39;49m\u001b[39m'\u001b[39;49m\u001b[39mblue\u001b[39;49m\u001b[39m'\u001b[39;49m, label\u001b[39m=\u001b[39;49m\u001b[39m'\u001b[39;49m\u001b[39mEntrenamiento\u001b[39;49m\u001b[39m'\u001b[39;49m)\n",
      "File \u001b[1;32md:\\Proyectos\\Python\\CdJuarezMX_Historial_Forecast\\cdjuarezforecast\\Lib\\site-packages\\matplotlib\\__init__.py:1478\u001b[0m, in \u001b[0;36m_preprocess_data.<locals>.inner\u001b[1;34m(ax, data, *args, **kwargs)\u001b[0m\n\u001b[0;32m   1475\u001b[0m \u001b[39m@functools\u001b[39m\u001b[39m.\u001b[39mwraps(func)\n\u001b[0;32m   1476\u001b[0m \u001b[39mdef\u001b[39;00m \u001b[39minner\u001b[39m(ax, \u001b[39m*\u001b[39margs, data\u001b[39m=\u001b[39m\u001b[39mNone\u001b[39;00m, \u001b[39m*\u001b[39m\u001b[39m*\u001b[39mkwargs):\n\u001b[0;32m   1477\u001b[0m     \u001b[39mif\u001b[39;00m data \u001b[39mis\u001b[39;00m \u001b[39mNone\u001b[39;00m:\n\u001b[1;32m-> 1478\u001b[0m         \u001b[39mreturn\u001b[39;00m func(ax, \u001b[39m*\u001b[39;49m\u001b[39mmap\u001b[39;49m(sanitize_sequence, args), \u001b[39m*\u001b[39;49m\u001b[39m*\u001b[39;49mkwargs)\n\u001b[0;32m   1480\u001b[0m     bound \u001b[39m=\u001b[39m new_sig\u001b[39m.\u001b[39mbind(ax, \u001b[39m*\u001b[39margs, \u001b[39m*\u001b[39m\u001b[39m*\u001b[39mkwargs)\n\u001b[0;32m   1481\u001b[0m     auto_label \u001b[39m=\u001b[39m (bound\u001b[39m.\u001b[39marguments\u001b[39m.\u001b[39mget(label_namer)\n\u001b[0;32m   1482\u001b[0m                   \u001b[39mor\u001b[39;00m bound\u001b[39m.\u001b[39mkwargs\u001b[39m.\u001b[39mget(label_namer))\n",
      "File \u001b[1;32md:\\Proyectos\\Python\\CdJuarezMX_Historial_Forecast\\cdjuarezforecast\\Lib\\site-packages\\matplotlib\\axes\\_axes.py:4652\u001b[0m, in \u001b[0;36mAxes.scatter\u001b[1;34m(self, x, y, s, c, marker, cmap, norm, vmin, vmax, alpha, linewidths, edgecolors, plotnonfinite, **kwargs)\u001b[0m\n\u001b[0;32m   4650\u001b[0m y \u001b[39m=\u001b[39m np\u001b[39m.\u001b[39mma\u001b[39m.\u001b[39mravel(y)\n\u001b[0;32m   4651\u001b[0m \u001b[39mif\u001b[39;00m x\u001b[39m.\u001b[39msize \u001b[39m!=\u001b[39m y\u001b[39m.\u001b[39msize:\n\u001b[1;32m-> 4652\u001b[0m     \u001b[39mraise\u001b[39;00m \u001b[39mValueError\u001b[39;00m(\u001b[39m\"\u001b[39m\u001b[39mx and y must be the same size\u001b[39m\u001b[39m\"\u001b[39m)\n\u001b[0;32m   4654\u001b[0m \u001b[39mif\u001b[39;00m s \u001b[39mis\u001b[39;00m \u001b[39mNone\u001b[39;00m:\n\u001b[0;32m   4655\u001b[0m     s \u001b[39m=\u001b[39m (\u001b[39m20\u001b[39m \u001b[39mif\u001b[39;00m mpl\u001b[39m.\u001b[39mrcParams[\u001b[39m'\u001b[39m\u001b[39m_internal.classic_mode\u001b[39m\u001b[39m'\u001b[39m] \u001b[39melse\u001b[39;00m\n\u001b[0;32m   4656\u001b[0m          mpl\u001b[39m.\u001b[39mrcParams[\u001b[39m'\u001b[39m\u001b[39mlines.markersize\u001b[39m\u001b[39m'\u001b[39m] \u001b[39m*\u001b[39m\u001b[39m*\u001b[39m \u001b[39m2.0\u001b[39m)\n",
      "\u001b[1;31mValueError\u001b[0m: x and y must be the same size"
     ]
    }
   ],
   "source": [
    "#Graficar los puntos de entrenamiento\n",
    "ax.scatter(X_entrenamiento['time_num_usa'],y_entrenamiento,color='blue', label='Entrenamiento')"
   ]
  },
  {
   "cell_type": "code",
   "execution_count": null,
   "metadata": {},
   "outputs": [
    {
     "ename": "TypeError",
     "evalue": "Axes.scatter() missing 1 required positional argument: 'y'",
     "output_type": "error",
     "traceback": [
      "\u001b[1;31m---------------------------------------------------------------------------\u001b[0m",
      "\u001b[1;31mTypeError\u001b[0m                                 Traceback (most recent call last)",
      "\u001b[1;32md:\\Proyectos\\Python\\CdJuarezMX_Historial_Forecast\\notebooks\\Machine Learning\\RLM-PY.ipynb Cell 12\u001b[0m line \u001b[0;36m2\n\u001b[0;32m      <a href='vscode-notebook-cell:/d%3A/Proyectos/Python/CdJuarezMX_Historial_Forecast/notebooks/Machine%20Learning/RLM-PY.ipynb#X14sZmlsZQ%3D%3D?line=0'>1</a>\u001b[0m \u001b[39m#Graficar los puentos de prueba\u001b[39;00m\n\u001b[1;32m----> <a href='vscode-notebook-cell:/d%3A/Proyectos/Python/CdJuarezMX_Historial_Forecast/notebooks/Machine%20Learning/RLM-PY.ipynb#X14sZmlsZQ%3D%3D?line=1'>2</a>\u001b[0m ax\u001b[39m.\u001b[39;49mscatter(X_test[\u001b[39m'\u001b[39;49m\u001b[39mtime_num_usa\u001b[39;49m\u001b[39m'\u001b[39;49m])\n",
      "File \u001b[1;32md:\\Proyectos\\Python\\CdJuarezMX_Historial_Forecast\\cdjuarezforecast\\Lib\\site-packages\\matplotlib\\__init__.py:1478\u001b[0m, in \u001b[0;36m_preprocess_data.<locals>.inner\u001b[1;34m(ax, data, *args, **kwargs)\u001b[0m\n\u001b[0;32m   1475\u001b[0m \u001b[39m@functools\u001b[39m\u001b[39m.\u001b[39mwraps(func)\n\u001b[0;32m   1476\u001b[0m \u001b[39mdef\u001b[39;00m \u001b[39minner\u001b[39m(ax, \u001b[39m*\u001b[39margs, data\u001b[39m=\u001b[39m\u001b[39mNone\u001b[39;00m, \u001b[39m*\u001b[39m\u001b[39m*\u001b[39mkwargs):\n\u001b[0;32m   1477\u001b[0m     \u001b[39mif\u001b[39;00m data \u001b[39mis\u001b[39;00m \u001b[39mNone\u001b[39;00m:\n\u001b[1;32m-> 1478\u001b[0m         \u001b[39mreturn\u001b[39;00m func(ax, \u001b[39m*\u001b[39;49m\u001b[39mmap\u001b[39;49m(sanitize_sequence, args), \u001b[39m*\u001b[39;49m\u001b[39m*\u001b[39;49mkwargs)\n\u001b[0;32m   1480\u001b[0m     bound \u001b[39m=\u001b[39m new_sig\u001b[39m.\u001b[39mbind(ax, \u001b[39m*\u001b[39margs, \u001b[39m*\u001b[39m\u001b[39m*\u001b[39mkwargs)\n\u001b[0;32m   1481\u001b[0m     auto_label \u001b[39m=\u001b[39m (bound\u001b[39m.\u001b[39marguments\u001b[39m.\u001b[39mget(label_namer)\n\u001b[0;32m   1482\u001b[0m                   \u001b[39mor\u001b[39;00m bound\u001b[39m.\u001b[39mkwargs\u001b[39m.\u001b[39mget(label_namer))\n",
      "\u001b[1;31mTypeError\u001b[0m: Axes.scatter() missing 1 required positional argument: 'y'"
     ]
    }
   ],
   "source": [
    "#Graficar los puentos de prueba\n",
    "ax.scatter(X_test['time_num_usa'])"
   ]
  },
  {
   "cell_type": "code",
   "execution_count": null,
   "metadata": {},
   "outputs": [],
   "source": [
    "#Graficar la recta de regresion\n",
    "ax.plot(y_test['time_num_usa'], y_prediccion,\n",
    "        color='black', linewidth=2, label='Regresión')"
   ]
  },
  {
   "cell_type": "code",
   "execution_count": null,
   "metadata": {},
   "outputs": [],
   "source": [
    "#Agregar etiquetas al eje X e Y\n",
    "ax.set_ylabel('Temperatura del viento')\n",
    "ax.set_xlabel('Fecha')"
   ]
  },
  {
   "cell_type": "code",
   "execution_count": null,
   "metadata": {},
   "outputs": [],
   "source": [
    "#agrefar un titulo al grafico\n",
    "ax.set_title(\"Regresion lineal multiple\")"
   ]
  },
  {
   "cell_type": "code",
   "execution_count": null,
   "metadata": {},
   "outputs": [],
   "source": [
    "# Mostrar la leyenda\n",
    "ax.legend()"
   ]
  },
  {
   "cell_type": "code",
   "execution_count": null,
   "metadata": {},
   "outputs": [],
   "source": [
    "# Mostrar grafico\n",
    "plt.show()"
   ]
  }
 ],
 "metadata": {
  "kernelspec": {
   "display_name": "cdjuarezforecast",
   "language": "python",
   "name": "python3"
  },
  "language_info": {
   "codemirror_mode": {
    "name": "ipython",
    "version": 3
   },
   "file_extension": ".py",
   "mimetype": "text/x-python",
   "name": "python",
   "nbconvert_exporter": "python",
   "pygments_lexer": "ipython3",
   "version": "3.12.0"
  }
 },
 "nbformat": 4,
 "nbformat_minor": 2
}
