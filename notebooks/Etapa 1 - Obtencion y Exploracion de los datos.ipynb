{
 "cells": [
  {
   "cell_type": "markdown",
   "metadata": {},
   "source": [
    "# 1. Obtención de los datos\n",
    "## 1.1 Contexto\n",
    "La informacion recolectada se encuentra en un archivo con formtato CSV (WeatherHistoryData_Cd_Juarez) el cual cuenta con 21 columnas y 209,424 filas.\n",
    "\n",
    "El proyecto sera sobre el Clima en Ciudad Juárez, Chihuahua, México (lat: 31.70983875, lon: -106.4621016), que para ser mas precisos, predecir el clima en una fecha, primeramente sera estatica, y luego pasara a dinamica, es decir, cualquier otra fecha. Sera se usara Machine Learning, para el entrenemiento de los datos y despues del aprendijaze se realizaran ciertas pruebas con fechas.\n",
    "\n",
    "Se prevee calcular no solo la temeperatura, sino que, tambien el punto de rocio, la direccion del viento, la altura de las nubes, la temperatura del suelo, la evaporacion, etc. Esto y mas con 18 parametros que se cuentan en el dataset.\n",
    "\n",
    "Para efectuar esto, como se menciono anteriormente se usara ML, asi como tambien las liebrerias, como Pandas, MatPlotLib, Seaborn y Numpy."
   ]
  },
  {
   "cell_type": "markdown",
   "metadata": {},
   "source": [
    "# 2. Exploracion de los datos\n",
    "Para dar inicio al proyecto, primero debemos dar una mirada al dataset que sera analizado."
   ]
  },
  {
   "cell_type": "code",
   "execution_count": 1,
   "metadata": {},
   "outputs": [
    {
     "ename": "ParserError",
     "evalue": "Error tokenizing data. C error: Expected 1 fields in line 5, saw 6\n",
     "output_type": "error",
     "traceback": [
      "\u001b[1;31m---------------------------------------------------------------------------\u001b[0m",
      "\u001b[1;31mParserError\u001b[0m                               Traceback (most recent call last)",
      "\u001b[1;32md:\\Proyectos\\Python\\CdJuarezMX_Historial_Forecast\\notebooks\\Etapa 1 - Obtencion y Exploracion de los datos.ipynb Cell 3\u001b[0m line \u001b[0;36m1\n\u001b[0;32m      <a href='vscode-notebook-cell:/d%3A/Proyectos/Python/CdJuarezMX_Historial_Forecast/notebooks/Etapa%201%20-%20Obtencion%20y%20Exploracion%20de%20los%20datos.ipynb#X10sZmlsZQ%3D%3D?line=7'>8</a>\u001b[0m descarga_url\u001b[39m=\u001b[39monedrive_url\u001b[39m.\u001b[39mreplace(\u001b[39m\"\u001b[39m\u001b[39monedrive.live.com\u001b[39m\u001b[39m\"\u001b[39m, \u001b[39m\"\u001b[39m\u001b[39monedrive.live.com/download\u001b[39m\u001b[39m\"\u001b[39m)\n\u001b[0;32m     <a href='vscode-notebook-cell:/d%3A/Proyectos/Python/CdJuarezMX_Historial_Forecast/notebooks/Etapa%201%20-%20Obtencion%20y%20Exploracion%20de%20los%20datos.ipynb#X10sZmlsZQ%3D%3D?line=9'>10</a>\u001b[0m \u001b[39m# LEer el CSV desde la URL\u001b[39;00m\n\u001b[1;32m---> <a href='vscode-notebook-cell:/d%3A/Proyectos/Python/CdJuarezMX_Historial_Forecast/notebooks/Etapa%201%20-%20Obtencion%20y%20Exploracion%20de%20los%20datos.ipynb#X10sZmlsZQ%3D%3D?line=10'>11</a>\u001b[0m cdjuarez\u001b[39m=\u001b[39mpd\u001b[39m.\u001b[39;49mread_csv(descarga_url)\n\u001b[0;32m     <a href='vscode-notebook-cell:/d%3A/Proyectos/Python/CdJuarezMX_Historial_Forecast/notebooks/Etapa%201%20-%20Obtencion%20y%20Exploracion%20de%20los%20datos.ipynb#X10sZmlsZQ%3D%3D?line=12'>13</a>\u001b[0m \u001b[39mprint\u001b[39m(cdjuarez)\n",
      "File \u001b[1;32md:\\Proyectos\\Python\\CdJuarezMX_Historial_Forecast\\cdjuarezforecast\\Lib\\site-packages\\pandas\\io\\parsers\\readers.py:948\u001b[0m, in \u001b[0;36mread_csv\u001b[1;34m(filepath_or_buffer, sep, delimiter, header, names, index_col, usecols, dtype, engine, converters, true_values, false_values, skipinitialspace, skiprows, skipfooter, nrows, na_values, keep_default_na, na_filter, verbose, skip_blank_lines, parse_dates, infer_datetime_format, keep_date_col, date_parser, date_format, dayfirst, cache_dates, iterator, chunksize, compression, thousands, decimal, lineterminator, quotechar, quoting, doublequote, escapechar, comment, encoding, encoding_errors, dialect, on_bad_lines, delim_whitespace, low_memory, memory_map, float_precision, storage_options, dtype_backend)\u001b[0m\n\u001b[0;32m    935\u001b[0m kwds_defaults \u001b[39m=\u001b[39m _refine_defaults_read(\n\u001b[0;32m    936\u001b[0m     dialect,\n\u001b[0;32m    937\u001b[0m     delimiter,\n\u001b[1;32m   (...)\u001b[0m\n\u001b[0;32m    944\u001b[0m     dtype_backend\u001b[39m=\u001b[39mdtype_backend,\n\u001b[0;32m    945\u001b[0m )\n\u001b[0;32m    946\u001b[0m kwds\u001b[39m.\u001b[39mupdate(kwds_defaults)\n\u001b[1;32m--> 948\u001b[0m \u001b[39mreturn\u001b[39;00m _read(filepath_or_buffer, kwds)\n",
      "File \u001b[1;32md:\\Proyectos\\Python\\CdJuarezMX_Historial_Forecast\\cdjuarezforecast\\Lib\\site-packages\\pandas\\io\\parsers\\readers.py:617\u001b[0m, in \u001b[0;36m_read\u001b[1;34m(filepath_or_buffer, kwds)\u001b[0m\n\u001b[0;32m    614\u001b[0m     \u001b[39mreturn\u001b[39;00m parser\n\u001b[0;32m    616\u001b[0m \u001b[39mwith\u001b[39;00m parser:\n\u001b[1;32m--> 617\u001b[0m     \u001b[39mreturn\u001b[39;00m parser\u001b[39m.\u001b[39;49mread(nrows)\n",
      "File \u001b[1;32md:\\Proyectos\\Python\\CdJuarezMX_Historial_Forecast\\cdjuarezforecast\\Lib\\site-packages\\pandas\\io\\parsers\\readers.py:1748\u001b[0m, in \u001b[0;36mTextFileReader.read\u001b[1;34m(self, nrows)\u001b[0m\n\u001b[0;32m   1741\u001b[0m nrows \u001b[39m=\u001b[39m validate_integer(\u001b[39m\"\u001b[39m\u001b[39mnrows\u001b[39m\u001b[39m\"\u001b[39m, nrows)\n\u001b[0;32m   1742\u001b[0m \u001b[39mtry\u001b[39;00m:\n\u001b[0;32m   1743\u001b[0m     \u001b[39m# error: \"ParserBase\" has no attribute \"read\"\u001b[39;00m\n\u001b[0;32m   1744\u001b[0m     (\n\u001b[0;32m   1745\u001b[0m         index,\n\u001b[0;32m   1746\u001b[0m         columns,\n\u001b[0;32m   1747\u001b[0m         col_dict,\n\u001b[1;32m-> 1748\u001b[0m     ) \u001b[39m=\u001b[39m \u001b[39mself\u001b[39;49m\u001b[39m.\u001b[39;49m_engine\u001b[39m.\u001b[39;49mread(  \u001b[39m# type: ignore[attr-defined]\u001b[39;49;00m\n\u001b[0;32m   1749\u001b[0m         nrows\n\u001b[0;32m   1750\u001b[0m     )\n\u001b[0;32m   1751\u001b[0m \u001b[39mexcept\u001b[39;00m \u001b[39mException\u001b[39;00m:\n\u001b[0;32m   1752\u001b[0m     \u001b[39mself\u001b[39m\u001b[39m.\u001b[39mclose()\n",
      "File \u001b[1;32md:\\Proyectos\\Python\\CdJuarezMX_Historial_Forecast\\cdjuarezforecast\\Lib\\site-packages\\pandas\\io\\parsers\\c_parser_wrapper.py:234\u001b[0m, in \u001b[0;36mCParserWrapper.read\u001b[1;34m(self, nrows)\u001b[0m\n\u001b[0;32m    232\u001b[0m \u001b[39mtry\u001b[39;00m:\n\u001b[0;32m    233\u001b[0m     \u001b[39mif\u001b[39;00m \u001b[39mself\u001b[39m\u001b[39m.\u001b[39mlow_memory:\n\u001b[1;32m--> 234\u001b[0m         chunks \u001b[39m=\u001b[39m \u001b[39mself\u001b[39;49m\u001b[39m.\u001b[39;49m_reader\u001b[39m.\u001b[39;49mread_low_memory(nrows)\n\u001b[0;32m    235\u001b[0m         \u001b[39m# destructive to chunks\u001b[39;00m\n\u001b[0;32m    236\u001b[0m         data \u001b[39m=\u001b[39m _concatenate_chunks(chunks)\n",
      "File \u001b[1;32mparsers.pyx:843\u001b[0m, in \u001b[0;36mpandas._libs.parsers.TextReader.read_low_memory\u001b[1;34m()\u001b[0m\n",
      "File \u001b[1;32mparsers.pyx:904\u001b[0m, in \u001b[0;36mpandas._libs.parsers.TextReader._read_rows\u001b[1;34m()\u001b[0m\n",
      "File \u001b[1;32mparsers.pyx:879\u001b[0m, in \u001b[0;36mpandas._libs.parsers.TextReader._tokenize_rows\u001b[1;34m()\u001b[0m\n",
      "File \u001b[1;32mparsers.pyx:890\u001b[0m, in \u001b[0;36mpandas._libs.parsers.TextReader._check_tokenize_status\u001b[1;34m()\u001b[0m\n",
      "File \u001b[1;32mparsers.pyx:2058\u001b[0m, in \u001b[0;36mpandas._libs.parsers.raise_parser_error\u001b[1;34m()\u001b[0m\n",
      "\u001b[1;31mParserError\u001b[0m: Error tokenizing data. C error: Expected 1 fields in line 5, saw 6\n"
     ]
    }
   ],
   "source": [
    "# Lectura del dataset\n",
    "import pandas as pd\n",
    "\n",
    "# Lectura del CSV por medio de un enlace conpartido en OneDrive\n",
    "onedrive_url=\"https://1drv.ms/x/s!Ah54KnMyWqwCgYBpVi46sl4d24_8iw?e=GEgytz\"\n",
    "\n",
    "# Convertir la URL de OneDrive en un URL de descarga directa\n",
    "descarga_url=onedrive_url.replace(\"onedrive.live.com\", \"onedrive.live.com/download\")\n",
    "\n",
    "# LEer el CSV desde la URL\n",
    "cdjuarez=pd.read_csv(descarga_url)\n",
    "\n",
    "print(cdjuarez)"
   ]
  },
  {
   "cell_type": "markdown",
   "metadata": {},
   "source": [
    "## 2.1 Tipos de datos"
   ]
  },
  {
   "cell_type": "markdown",
   "metadata": {},
   "source": [
    "## 2.2 Descripcion de variables"
   ]
  },
  {
   "cell_type": "markdown",
   "metadata": {},
   "source": [
    "### 2.2.1 Variables categoricas"
   ]
  },
  {
   "cell_type": "markdown",
   "metadata": {},
   "source": [
    "### 2.2.2 Variables numericas"
   ]
  },
  {
   "cell_type": "code",
   "execution_count": null,
   "metadata": {},
   "outputs": [],
   "source": []
  }
 ],
 "metadata": {
  "kernelspec": {
   "display_name": "cdjuarezforecast",
   "language": "python",
   "name": "python3"
  },
  "language_info": {
   "codemirror_mode": {
    "name": "ipython",
    "version": 3
   },
   "file_extension": ".py",
   "mimetype": "text/x-python",
   "name": "python",
   "nbconvert_exporter": "python",
   "pygments_lexer": "ipython3",
   "version": "3.12.0"
  }
 },
 "nbformat": 4,
 "nbformat_minor": 2
}
