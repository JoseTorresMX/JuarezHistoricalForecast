{
 "cells": [
  {
   "cell_type": "markdown",
   "metadata": {},
   "source": [
    "# 1. Obtención de los datos\n",
    "## 1.1 Contexto\n",
    "La informacion recolectada se encuentra en un archivo con formtato CSV (WeatherHistoryData_Cd_Juarez) el cual cuenta con 21 columnas y 209,424 filas.\n",
    "\n",
    "El proyecto sera sobre el Clima en Ciudad Juárez, Chihuahua, México (lat: 31.70983875, lon: -106.4621016), que para ser mas precisos, predecir el clima en una fecha, primeramente sera estatica, y luego pasara a dinamica, es decir, cualquier otra fecha. Sera se usara Machine Learning, para el entrenemiento de los datos y despues del aprendijaze se realizaran ciertas pruebas con fechas.\n",
    "\n",
    "Se prevee calcular no solo la temeperatura, sino que, tambien el punto de rocio, la direccion del viento, la altura de las nubes, la temperatura del suelo, la evaporacion, etc. Esto y mas con 18 parametros que se cuentan en el dataset.\n",
    "\n",
    "Para efectuar esto, como se menciono anteriormente se usara ML, asi como tambien las liebrerias, como Pandas, MatPlotLib, Seaborn y Numpy."
   ]
  },
  {
   "cell_type": "markdown",
   "metadata": {},
   "source": [
    "# 2. Exploracion de los datos\n",
    "Para dar inicio al proyecto, primero debemos dar una mirada al dataset que sera analizado."
   ]
  },
  {
   "cell_type": "markdown",
   "metadata": {},
   "source": [
    "## 2.1 Tipos de datos"
   ]
  },
  {
   "cell_type": "markdown",
   "metadata": {},
   "source": [
    "## 2.2 Descripcion de variables"
   ]
  },
  {
   "cell_type": "markdown",
   "metadata": {},
   "source": [
    "### 2.2.1 Variables categoricas"
   ]
  },
  {
   "cell_type": "markdown",
   "metadata": {},
   "source": [
    "### 2.2.2 Variables numericas"
   ]
  },
  {
   "cell_type": "code",
   "execution_count": null,
   "metadata": {
    "vscode": {
     "languageId": "plaintext"
    }
   },
   "outputs": [],
   "source": []
  }
 ],
 "metadata": {
  "kernelspec": {
   "display_name": "cdjuarezforecast",
   "language": "python",
   "name": "python3"
  },
  "language_info": {
   "codemirror_mode": {
    "name": "ipython",
    "version": 3
   },
   "file_extension": ".py",
   "mimetype": "text/x-python",
   "name": "python",
   "nbconvert_exporter": "python",
   "pygments_lexer": "ipython3",
   "version": "3.12.0"
  }
 },
 "nbformat": 4,
 "nbformat_minor": 2
}
